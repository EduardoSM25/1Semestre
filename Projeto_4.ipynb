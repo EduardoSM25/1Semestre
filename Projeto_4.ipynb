{
  "nbformat": 4,
  "nbformat_minor": 0,
  "metadata": {
    "colab": {
      "provenance": [],
      "authorship_tag": "ABX9TyMMoEaRDjQzsIO9Rdnb7FGn",
      "include_colab_link": true
    },
    "kernelspec": {
      "name": "python3",
      "display_name": "Python 3"
    },
    "language_info": {
      "name": "python"
    }
  },
  "cells": [
    {
      "cell_type": "markdown",
      "metadata": {
        "id": "view-in-github",
        "colab_type": "text"
      },
      "source": [
        "<a href=\"https://colab.research.google.com/github/EduardoSM25/1Semestre/blob/main/Projeto_4.ipynb\" target=\"_parent\"><img src=\"https://colab.research.google.com/assets/colab-badge.svg\" alt=\"Open In Colab\"/></a>"
      ]
    },
    {
      "cell_type": "code",
      "execution_count": null,
      "metadata": {
        "id": "JyEN27AjGhXq"
      },
      "outputs": [],
      "source": [
        "import sqlite3\n",
        "\n",
        "con = sqlite3.connect(\"usuarios.db\")\n",
        "cur = con.cursor()\n",
        "\n",
        "cur.execute(\"\"\"\n",
        "CREATE TABLE IF NOT EXISTS usuarios (\n",
        "    id INTEGER PRIMARY KEY AUTOINCREMENT,\n",
        "    nome TEXT NOT NULL,\n",
        "    email TEXT UNIQUE NOT NULL\n",
        ")\n",
        "\"\"\")\n",
        "\n",
        "def adicionar_usuario(nome, email):\n",
        "    try:\n",
        "        cur.execute(\"INSERT INTO usuarios (nome, email) VALUES (?, ?)\", (nome, email))\n",
        "        con.commit()\n",
        "        print(\"Usuário cadastrado com sucesso.\")\n",
        "    except sqlite3.IntegrityError:\n",
        "        print(\"Erro: email já cadastrado.\")\n",
        "\n",
        "def listar_usuarios():\n",
        "    resultado = cur.execute(\"SELECT * FROM usuarios\").fetchall()\n",
        "    if resultado:\n",
        "        for row in resultado:\n",
        "            print(row)\n",
        "    else:\n",
        "        print(\"Nenhum usuário encontrado.\")\n",
        "\n",
        "def menu():\n",
        "    while True:\n",
        "        print(\"\\n--- Sistema de Cadastro ---\")\n",
        "        print(\"1. Adicionar usuário\")\n",
        "        print(\"2. Listar usuários\")\n",
        "        print(\"3. Sair\")\n",
        "        op = input(\"Escolha uma opção: \")\n",
        "\n",
        "        if op not in [\"1\", \"2\", \"3\"]:\n",
        "            print(\"Opção inválida.\")\n",
        "            continue\n",
        "\n",
        "        if op == \"1\":\n",
        "            nome = input(\"Nome: \")\n",
        "            email = input(\"Email: \")\n",
        "            adicionar_usuario(nome, email)\n",
        "\n",
        "        if op == \"2\":\n",
        "            listar_usuarios()\n",
        "\n",
        "        if op == \"3\":\n",
        "            print(\"Encerrando...\")\n",
        "            break\n",
        "\n",
        "menu()"
      ]
    }
  ]
}