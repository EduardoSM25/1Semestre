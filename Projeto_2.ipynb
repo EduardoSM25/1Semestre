{
  "nbformat": 4,
  "nbformat_minor": 0,
  "metadata": {
    "colab": {
      "provenance": [],
      "authorship_tag": "ABX9TyPG0HXkUY5wCYunDemTMRru",
      "include_colab_link": true
    },
    "kernelspec": {
      "name": "python3",
      "display_name": "Python 3"
    },
    "language_info": {
      "name": "python"
    }
  },
  "cells": [
    {
      "cell_type": "markdown",
      "metadata": {
        "id": "view-in-github",
        "colab_type": "text"
      },
      "source": [
        "<a href=\"https://colab.research.google.com/github/EduardoSM25/1Semestre/blob/main/Projeto_2.ipynb\" target=\"_parent\"><img src=\"https://colab.research.google.com/assets/colab-badge.svg\" alt=\"Open In Colab\"/></a>"
      ]
    },
    {
      "cell_type": "code",
      "execution_count": null,
      "metadata": {
        "colab": {
          "base_uri": "https://localhost:8080/"
        },
        "id": "V9BGcixKGhsl",
        "outputId": "d71f0b50-0463-4210-bf9e-680c0eea939f"
      },
      "outputs": [
        {
          "output_type": "stream",
          "name": "stdout",
          "text": [
            "\n",
            "--- Sistema de Votação ---\n",
            "1. Votar\n",
            "2. Ver resultado parcial\n",
            "3. Sair\n",
            "Escolha: 3\n",
            "Encerrando...\n"
          ]
        }
      ],
      "source": [
        "import json\n",
        "import os\n",
        "\n",
        "ARQUIVO = \"votacao.json\"\n",
        "CANDIDATOS = [\"Alice\", \"Bob\", \"Carol\"]\n",
        "\n",
        "def carregar_dados():\n",
        "    if os.path.exists(ARQUIVO):\n",
        "        with open(ARQUIVO, \"r\", encoding=\"utf-8\") as f:\n",
        "            try:\n",
        "                return json.load(f)\n",
        "            except json.JSONDecodeError:\n",
        "                return {\"votos\": {}, \"votantes\": []}\n",
        "    return {\"votos\": {}, \"votantes\": []}\n",
        "\n",
        "def salvar_dados(dados):\n",
        "    with open(ARQUIVO, \"w\", encoding=\"utf-8\") as f:\n",
        "        json.dump(dados, f, indent=2, ensure_ascii=False)\n",
        "\n",
        "def votar(identificador, nome, candidato, dados):\n",
        "    if identificador in dados[\"votantes\"]:\n",
        "        print(\"❌ Esse identificador já foi usado para votar.\")\n",
        "        return\n",
        "\n",
        "    if candidato not in CANDIDATOS:\n",
        "        print(\"❌ Candidato inválido.\")\n",
        "        return\n",
        "\n",
        "    dados[\"votos\"][candidato] = dados[\"votos\"].get(candidato, 0) + 1\n",
        "    dados[\"votantes\"].append(identificador)\n",
        "    salvar_dados(dados)\n",
        "    print(f\"✅ Voto de {nome} para {candidato} registrado!\")\n",
        "\n",
        "def mostrar_resultado(dados):\n",
        "    print(\"\\n📊 Resultado parcial:\")\n",
        "    for candidato in CANDIDATOS:\n",
        "        votos = dados[\"votos\"].get(candidato, 0)\n",
        "        print(f\"{candidato}: {votos} voto(s)\")\n",
        "\n",
        "def menu():\n",
        "    dados = carregar_dados()\n",
        "    while True:\n",
        "        print(\"\\n--- Sistema de Votação ---\")\n",
        "        print(\"1. Votar\")\n",
        "        print(\"2. Ver resultado parcial\")\n",
        "        print(\"3. Sair\")\n",
        "        op = input(\"Escolha: \")\n",
        "\n",
        "        if op == \"1\":\n",
        "            identificador = input(\"Digite seu CPF ou ID único: \").strip().lower()\n",
        "            nome = input(\"Seu nome: \").strip()\n",
        "            print(\"Candidatos disponíveis:\", \", \".join(CANDIDATOS))\n",
        "            candidato = input(\"Seu voto: \").strip()\n",
        "            votar(identificador, nome, candidato, dados)\n",
        "\n",
        "        if op == \"2\":\n",
        "            mostrar_resultado(dados)\n",
        "\n",
        "        if op == \"3\":\n",
        "            print(\"Encerrando...\")\n",
        "            break\n",
        "\n",
        "        if op not in [\"1\", \"2\", \"3\"]:\n",
        "            print(\"Opção inválida.\")\n",
        "\n",
        "menu()"
      ]
    }
  ]
}