{
  "nbformat": 4,
  "nbformat_minor": 0,
  "metadata": {
    "colab": {
      "provenance": [],
      "authorship_tag": "ABX9TyP2R+ZK+KfkNFMYZbqJPeMp",
      "include_colab_link": true
    },
    "kernelspec": {
      "name": "python3",
      "display_name": "Python 3"
    },
    "language_info": {
      "name": "python"
    }
  },
  "cells": [
    {
      "cell_type": "markdown",
      "metadata": {
        "id": "view-in-github",
        "colab_type": "text"
      },
      "source": [
        "<a href=\"https://colab.research.google.com/github/EduardoSM25/1Semestre/blob/main/Algoritmo_e_programa%C3%A7%C3%A3o_colorama.ipynb\" target=\"_parent\"><img src=\"https://colab.research.google.com/assets/colab-badge.svg\" alt=\"Open In Colab\"/></a>"
      ]
    },
    {
      "cell_type": "code",
      "execution_count": null,
      "metadata": {
        "id": "f3tqToXSzTjQ"
      },
      "outputs": [],
      "source": [
        "pip install colorama"
      ]
    },
    {
      "cell_type": "markdown",
      "source": [
        "## 1. Controle de Estoque com Quantidade Crítica"
      ],
      "metadata": {
        "id": "MFAbJw5ezkFm"
      }
    },
    {
      "cell_type": "code",
      "source": [
        "from colorama import Fore, Style\n",
        "\n",
        "# Lista de produtos com seus estoques\n",
        "estoque = {\n",
        "    \"Arroz\": 5,\n",
        "    \"Feijão\": 12,\n",
        "    \"Macarrão\": 3,\n",
        "    \"Óleo\": 15,\n",
        "    \"Sal\": 8\n",
        "}\n",
        "\n",
        "print(\"📦 Controle de Estoque:\")\n",
        "for produto, quantidade in estoque.items():\n",
        "    if quantidade < 10:\n",
        "        print(Fore.RED + f\"{produto}: {quantidade} unidades (CRÍTICO)\")\n",
        "    else:\n",
        "        print(Fore.GREEN + f\"{produto}: {quantidade} unidades (OK)\")\n",
        "print(Style.RESET_ALL)"
      ],
      "metadata": {
        "id": "oq1ld6N3z6f2"
      },
      "execution_count": null,
      "outputs": []
    },
    {
      "cell_type": "markdown",
      "source": [
        "## 2. Acompanhamento de Vendas"
      ],
      "metadata": {
        "id": "1qzDYdzw0J81"
      }
    },
    {
      "cell_type": "code",
      "source": [
        "vendas = []\n",
        "for i in range(5):\n",
        "    valor = float(input(f\"Venda {i+1}: R$ \"))\n",
        "    vendas.append(valor)\n",
        "\n",
        "media = sum(vendas) / len(vendas)\n",
        "\n",
        "for v in vendas:\n",
        "    if v > media:\n",
        "        print(Fore.GREEN + f\"Venda: R$ {v:.2f}\" + Style.RESET_ALL)\n",
        "    if v == media:\n",
        "        print(Fore.YELLOW + f\"Venda: R$ {v:.2f}\" + Style.RESET_ALL)\n",
        "    if v < media:\n",
        "        print(Fore.RED + f\"Venda: R$ {v:.2f}\" + Style.RESET_ALL)"
      ],
      "metadata": {
        "id": "JLYcIAh91EeD"
      },
      "execution_count": null,
      "outputs": []
    },
    {
      "cell_type": "markdown",
      "source": [
        "## 3. Login com Três Tentativas"
      ],
      "metadata": {
        "id": "3JXIgL6W1ZRM"
      }
    },
    {
      "cell_type": "code",
      "source": [
        "senha_correta = \"1234\"\n",
        "tentativas = 0\n",
        "\n",
        "while tentativas < 3:\n",
        "    senha = input(\"Digite a senha: \")\n",
        "    if senha == senha_correta:\n",
        "        print(Fore.GREEN + \"Acesso concedido!\" + Style.RESET_ALL)\n",
        "        break\n",
        "    if senha != senha_correta:\n",
        "        tentativas += 1\n",
        "        print(Fore.YELLOW + f\"Tentativa {tentativas}/3 incorreta.\" + Style.RESET_ALL)\n",
        "\n",
        "if tentativas == 3:\n",
        "    print(Fore.RED + \"Acesso bloqueado após 3 tentativas.\" + Style.RESET_ALL)\n"
      ],
      "metadata": {
        "id": "pK679tnL1dML"
      },
      "execution_count": null,
      "outputs": []
    },
    {
      "cell_type": "markdown",
      "source": [
        "## 4. Verificador de CPF com Repetição"
      ],
      "metadata": {
        "id": "5kNF5SPl1fjT"
      }
    },
    {
      "cell_type": "code",
      "source": [
        "while True:\n",
        "    cpf = input(\"Digite o CPF (ou 'fim'): \")\n",
        "    if cpf.lower() == \"fim\":\n",
        "        break\n",
        "    if len(cpf) == 11 and cpf.isdigit():\n",
        "        print(Fore.GREEN + \"CPF válido.\" + Style.RESET_ALL)\n",
        "    if len(cpf) != 11 or not cpf.isdigit():\n",
        "        print(Fore.RED + \"CPF inválido.\" + Style.RESET_ALL)"
      ],
      "metadata": {
        "id": "Z2i6m5u817nL"
      },
      "execution_count": null,
      "outputs": []
    },
    {
      "cell_type": "markdown",
      "source": [
        "## 5. Verificação de Emails com for-else"
      ],
      "metadata": {
        "id": "WIR9uieY1glT"
      }
    },
    {
      "cell_type": "code",
      "source": [
        "contatos = [\"joao@email.com\", \"ana@gmail.com\", \"maria@empresa.com\"]\n",
        "email = input(\"Digite o email a buscar: \")\n",
        "\n",
        "for c in contatos:\n",
        "    if c == email:\n",
        "        print(Fore.GREEN + \"Email encontrado.\" + Style.RESET_ALL)\n",
        "        break\n",
        "else:\n",
        "    print(Fore.RED + \"Email não encontrado.\" + Style.RESET_ALL)"
      ],
      "metadata": {
        "id": "hCadJpoD18Pb"
      },
      "execution_count": null,
      "outputs": []
    },
    {
      "cell_type": "markdown",
      "source": [
        "## 6. Gestão de Horas Extras"
      ],
      "metadata": {
        "id": "1v3GC-RF1g6r"
      }
    },
    {
      "cell_type": "code",
      "source": [
        "extras = {}\n",
        "for i in range(5):\n",
        "    nome = input(\"Nome do funcionário: \")\n",
        "    horas = int(input(\"Horas extras: \"))\n",
        "    extras[nome] = horas\n",
        "\n",
        "for nome, horas in extras.items():\n",
        "    if horas > 10:\n",
        "        print(Fore.RED + f\"{nome}: {horas} horas\" + Style.RESET_ALL)\n",
        "    if horas <= 10:\n",
        "        print(Fore.GREEN + f\"{nome}: {horas} horas\" + Style.RESET_ALL)"
      ],
      "metadata": {
        "id": "mz1Z3MgN180K"
      },
      "execution_count": null,
      "outputs": []
    },
    {
      "cell_type": "markdown",
      "source": [
        "## 7. Checklist de Tarefas"
      ],
      "metadata": {
        "id": "YwTOIOZ31hNj"
      }
    },
    {
      "cell_type": "code",
      "source": [
        "tarefas = ['Enviar relatório', 'Fazer backup', 'Atualizar sistema']\n",
        "concluidas = 0\n",
        "\n",
        "for tarefa in tarefas:\n",
        "    status = input(f\"{tarefa} concluída? (s/n): \")\n",
        "    if status.lower() == 's':\n",
        "        concluidas += 1\n",
        "        print(Fore.GREEN + \"Concluída\" + Style.RESET_ALL)\n",
        "    if status.lower() != 's':\n",
        "        print(Fore.YELLOW + \"Pendente\" + Style.RESET_ALL)\n",
        "\n",
        "print(Fore.CYAN + f\"{concluidas} de {len(tarefas)} tarefas finalizadas.\" + Style.RESET_ALL)"
      ],
      "metadata": {
        "id": "oO-8tDTu19LD"
      },
      "execution_count": null,
      "outputs": []
    },
    {
      "cell_type": "markdown",
      "source": [
        "## 8. Monitoramento de Temperatura"
      ],
      "metadata": {
        "id": "aied30my1hoj"
      }
    },
    {
      "cell_type": "code",
      "source": [
        "i = 0\n",
        "alerta = False\n",
        "\n",
        "while i < 7:\n",
        "    temp = float(input(f\"Temperatura {i+1} (°C): \"))\n",
        "    if temp > 38:\n",
        "        print(Fore.RED + f\"Alerta! Temperatura alta: {temp}°C\" + Style.RESET_ALL)\n",
        "        alerta = True\n",
        "    i += 1\n",
        "else:\n",
        "    if alerta == False:\n",
        "        print(Fore.GREEN + \"Temperaturas normais.\" + Style.RESET_ALL)"
      ],
      "metadata": {
        "id": "woYkZ_1x19sK"
      },
      "execution_count": null,
      "outputs": []
    },
    {
      "cell_type": "markdown",
      "source": [
        "## 9. Ranking de Produtividade"
      ],
      "metadata": {
        "id": "2zdJRg4L1iDL"
      }
    },
    {
      "cell_type": "code",
      "source": [
        "produtividades = [65, 72, 95, 88, 50]\n",
        "\n",
        "for p in produtividades:\n",
        "    if p < 70:\n",
        "        print(Fore.RED + f\"Produtividade: {p}%\" + Style.RESET_ALL)\n",
        "    if p >= 70 and p <= 90:\n",
        "        print(Fore.YELLOW + f\"Produtividade: {p}%\" + Style.RESET_ALL)\n",
        "    if p > 90:\n",
        "        print(Fore.GREEN + f\"Produtividade: {p}%\" + Style.RESET_ALL)"
      ],
      "metadata": {
        "id": "WZIFoBiQ1-Ia"
      },
      "execution_count": null,
      "outputs": []
    },
    {
      "cell_type": "markdown",
      "source": [
        "## 10. Cadastro com validação de campos"
      ],
      "metadata": {
        "id": "sVxjvK5x1iUT"
      }
    },
    {
      "cell_type": "code",
      "source": [
        "nome = input(\"Nome: \")\n",
        "idade = int(input(\"Idade: \"))\n",
        "email = input(\"Email: \")\n",
        "\n",
        "if \"@\" not in email:\n",
        "    print(Fore.RED + \"Email inválido!\" + Style.RESET_ALL)\n",
        "if idade < 18:\n",
        "    print(Fore.RED + \"Cadastro não permitido para menores de 18 anos.\" + Style.RESET_ALL)\n",
        "if \"@\" in email and idade >= 18:\n",
        "    print(Fore.GREEN + \"Cadastro realizado com sucesso!\" + Style.RESET_ALL)"
      ],
      "metadata": {
        "id": "2uS-8Yfr2-sR"
      },
      "execution_count": null,
      "outputs": []
    }
  ]
}