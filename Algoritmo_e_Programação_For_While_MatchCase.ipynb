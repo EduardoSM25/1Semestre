{
  "nbformat": 4,
  "nbformat_minor": 0,
  "metadata": {
    "colab": {
      "provenance": [],
      "authorship_tag": "ABX9TyOK5oRwiU0PAFOak++CjD85",
      "include_colab_link": true
    },
    "kernelspec": {
      "name": "python3",
      "display_name": "Python 3"
    },
    "language_info": {
      "name": "python"
    }
  },
  "cells": [
    {
      "cell_type": "markdown",
      "metadata": {
        "id": "view-in-github",
        "colab_type": "text"
      },
      "source": [
        "<a href=\"https://colab.research.google.com/github/EduardoSM25/1Semestre/blob/main/Algoritmo_e_Programa%C3%A7%C3%A3o_For_While_MatchCase.ipynb\" target=\"_parent\"><img src=\"https://colab.research.google.com/assets/colab-badge.svg\" alt=\"Open In Colab\"/></a>"
      ]
    },
    {
      "cell_type": "markdown",
      "source": [
        "## Exercício 1 – Lista de Tarefas com append() e sort()"
      ],
      "metadata": {
        "id": "ObmnDxQF4KIE"
      }
    },
    {
      "cell_type": "code",
      "execution_count": null,
      "metadata": {
        "id": "jlH7sCyW3e1o"
      },
      "outputs": [],
      "source": [
        "tarefas = []\n",
        "\n",
        "while True:\n",
        "    nova = input(\"Digite uma tarefa (ou 'sair' para encerrar): \")\n",
        "    if nova.lower() == 'sair':\n",
        "        break\n",
        "    tarefas.append(nova)\n",
        "\n",
        "tarefas.sort()\n",
        "\n",
        "print(\"\\nTarefas organizadas:\")\n",
        "for t in tarefas:\n",
        "    print(\"-\", t)"
      ]
    },
    {
      "cell_type": "markdown",
      "source": [
        "## Exercício 2 – Controle de Estoque com append(), remove(), count()"
      ],
      "metadata": {
        "id": "vKkR2AEo4PBq"
      }
    },
    {
      "cell_type": "code",
      "source": [
        "estoque = []\n",
        "\n",
        "while True:\n",
        "    print(\"\\n1 - Adicionar produto\\n2 - Remover produto\\n3 - Contar produto\\n0 - Sair\")\n",
        "    opcao = input(\"Escolha uma opção: \")\n",
        "\n",
        "    match opcao:\n",
        "        case \"1\":\n",
        "            produto = input(\"Nome do produto: \")\n",
        "            estoque.append(produto)\n",
        "            print(\"Produto adicionado.\")\n",
        "        case \"2\":\n",
        "            produto = input(\"Nome do produto a remover: \")\n",
        "            if produto in estoque:\n",
        "                estoque.remove(produto)\n",
        "                print(\"Produto removido.\")\n",
        "            else:\n",
        "                print(\"Produto não encontrado.\")\n",
        "        case \"3\":\n",
        "            produto = input(\"Produto a contar: \")\n",
        "            print(f\"Quantidade de {produto}: {estoque.count(produto)}\")\n",
        "        case \"0\":\n",
        "            break\n",
        "        case _:\n",
        "            print(\"Opção inválida.\")"
      ],
      "metadata": {
        "id": "ASTkxnob304l"
      },
      "execution_count": null,
      "outputs": []
    },
    {
      "cell_type": "markdown",
      "source": [
        "## Exercício 3 – Suporte Técnico com match case e códigos"
      ],
      "metadata": {
        "id": "fJZi_c2j4QTx"
      }
    },
    {
      "cell_type": "code",
      "source": [
        "erros = [100, 200, 404, 503, 999]\n",
        "\n",
        "for codigo in erros:\n",
        "    print(f\"\\nCódigo: {codigo}\")\n",
        "    match codigo:\n",
        "        case 100:\n",
        "            print(\"🔌 Conexão perdida. Verifique o cabo.\")\n",
        "        case 200:\n",
        "            print(\"🔐 Autenticação falhou. Verifique login e senha.\")\n",
        "        case 404:\n",
        "            print(\"📦 Recurso não encontrado.\")\n",
        "        case codigo if 500 <= codigo < 600:\n",
        "            print(\"🧯 Erro interno. Contate o suporte.\")\n",
        "        case _:\n",
        "            print(\"❓ Código desconhecido.\")"
      ],
      "metadata": {
        "id": "46oH6H1F33at"
      },
      "execution_count": null,
      "outputs": []
    },
    {
      "cell_type": "markdown",
      "source": [
        "## Exercício 4 – Lista de Compras com in, remove() e pop()"
      ],
      "metadata": {
        "id": "xSuw6N054WbJ"
      }
    },
    {
      "cell_type": "code",
      "source": [
        "compras = ['arroz', 'feijão', 'macarrão', 'sal']\n",
        "\n",
        "print(\"Lista atual:\", compras)\n",
        "item = input(\"Digite o nome do item a remover: \")\n",
        "\n",
        "if item in compras:\n",
        "    compras.remove(item)\n",
        "    print(\"Item removido.\")\n",
        "else:\n",
        "    print(\"Item não encontrado.\")\n",
        "\n",
        "indice = int(input(\"Digite o índice de um item a remover: \"))\n",
        "if 0 <= indice < len(compras):\n",
        "    removido = compras.pop(indice)\n",
        "    print(f\"Item removido pelo índice: {removido}\")\n",
        "else:\n",
        "    print(\"Índice inválido.\")\n",
        "\n",
        "print(\"Lista final:\", compras)"
      ],
      "metadata": {
        "id": "QgdRM69j38j7"
      },
      "execution_count": null,
      "outputs": []
    },
    {
      "cell_type": "markdown",
      "source": [
        "## Exercício 5 – Cadastro de Notas com insert() e sum()"
      ],
      "metadata": {
        "id": "sHs4kxsz4ZTY"
      }
    },
    {
      "cell_type": "code",
      "source": [
        "notas = []\n",
        "for i in range(4):\n",
        "    nota = float(input(f\"Digite a nota {i+1}: \"))\n",
        "    notas.append(nota)\n",
        "\n",
        "extra = float(input(\"Digite a nota extra (será adicionada no início): \"))\n",
        "notas.insert(0, extra)\n",
        "\n",
        "media = sum(notas) / len(notas)\n",
        "print(f\"Notas cadastradas: {notas}\")\n",
        "print(f\"Média final: {media:.2f}\")"
      ],
      "metadata": {
        "id": "72-OUsnB3_Jr"
      },
      "execution_count": null,
      "outputs": []
    },
    {
      "cell_type": "markdown",
      "source": [
        "## Exercício 6 – Pesquisa em Lista com index()"
      ],
      "metadata": {
        "id": "hXeldrfB4b-I"
      }
    },
    {
      "cell_type": "code",
      "source": [
        "livros = ['Python para Iniciantes', 'Lógica de Programação', 'Algoritmos', 'Banco de Dados']\n",
        "\n",
        "busca = input(\"Digite o título do livro: \")\n",
        "\n",
        "if busca in livros:\n",
        "    posicao = livros.index(busca)\n",
        "    print(f\"O livro está na posição {posicao}.\")\n",
        "else:\n",
        "    print(\"Livro não encontrado.\")"
      ],
      "metadata": {
        "id": "KHv57kIE4BiL"
      },
      "execution_count": null,
      "outputs": []
    },
    {
      "cell_type": "markdown",
      "source": [
        "## Exercício 7 – Menu de Filmes com clear() e len()"
      ],
      "metadata": {
        "id": "pDi4t_2H4c2o"
      }
    },
    {
      "cell_type": "code",
      "source": [
        "filmes = []\n",
        "\n",
        "while True:\n",
        "    print(\"\\n1 - Adicionar filme\\n2 - Listar filmes\\n3 - Contar filmes\\n4 - Limpar lista\\n0 - Sair\")\n",
        "    opcao = input(\"Escolha: \")\n",
        "\n",
        "    match opcao:\n",
        "        case \"1\":\n",
        "            filme = input(\"Nome do filme: \")\n",
        "            filmes.append(filme)\n",
        "        case \"2\":\n",
        "            print(\"Filmes assistidos:\", filmes)\n",
        "        case \"3\":\n",
        "            print(\"Total de filmes:\", len(filmes))\n",
        "        case \"4\":\n",
        "            filmes.clear()\n",
        "            print(\"Lista limpa.\")\n",
        "        case \"0\":\n",
        "            break\n",
        "        case _:\n",
        "            print(\"Opção inválida.\")"
      ],
      "metadata": {
        "id": "UvQkpSZR4D-r"
      },
      "execution_count": null,
      "outputs": []
    }
  ]
}