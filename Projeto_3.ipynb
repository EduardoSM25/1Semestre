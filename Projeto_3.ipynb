{
  "nbformat": 4,
  "nbformat_minor": 0,
  "metadata": {
    "colab": {
      "provenance": [],
      "authorship_tag": "ABX9TyOEkNMdeqk7opDZePSYEzlh",
      "include_colab_link": true
    },
    "kernelspec": {
      "name": "python3",
      "display_name": "Python 3"
    },
    "language_info": {
      "name": "python"
    }
  },
  "cells": [
    {
      "cell_type": "markdown",
      "metadata": {
        "id": "view-in-github",
        "colab_type": "text"
      },
      "source": [
        "<a href=\"https://colab.research.google.com/github/EduardoSM25/1Semestre/blob/main/Projeto_3.ipynb\" target=\"_parent\"><img src=\"https://colab.research.google.com/assets/colab-badge.svg\" alt=\"Open In Colab\"/></a>"
      ]
    },
    {
      "cell_type": "code",
      "execution_count": null,
      "metadata": {
        "id": "_1Jafkl3GhnW"
      },
      "outputs": [],
      "source": [
        "class Conta:\n",
        "    def __init__(self, cliente, saldo=0):\n",
        "        self.cliente = cliente\n",
        "        self.saldo = saldo\n",
        "        self.extrato = []\n",
        "\n",
        "    def depositar(self, valor):\n",
        "        if valor > 0:\n",
        "            self.saldo += valor\n",
        "            self.extrato.append(f\"Depósito: R$ {valor:.2f}\")\n",
        "        else:\n",
        "            print(\"Valor inválido para depósito.\")\n",
        "\n",
        "    def sacar(self, valor):\n",
        "        if 0 < valor <= self.saldo:\n",
        "            self.saldo -= valor\n",
        "            self.extrato.append(f\"Saque: R$ {valor:.2f}\")\n",
        "        else:\n",
        "            print(\"Saldo insuficiente ou valor inválido.\")\n",
        "\n",
        "    def mostrar_extrato(self):\n",
        "        print(f\"\\nExtrato de {self.cliente}\")\n",
        "        for item in self.extrato:\n",
        "            print(\"-\", item)\n",
        "        print(f\"Saldo atual: R$ {self.saldo:.2f}\")\n",
        "\n",
        "def menu():\n",
        "    conta = Conta(\"Eduardo\")\n",
        "    while True:\n",
        "        print(\"\\n--- Menu Bancário ---\")\n",
        "        print(\"1. Depositar\")\n",
        "        print(\"2. Sacar\")\n",
        "        print(\"3. Ver extrato\")\n",
        "        print(\"4. Sair\")\n",
        "        op = input(\"Escolha uma opção: \")\n",
        "\n",
        "        if op not in [\"1\", \"2\", \"3\", \"4\"]:\n",
        "            print(\"Opção inválida.\")\n",
        "            continue\n",
        "\n",
        "        if op == \"1\":\n",
        "            try:\n",
        "                valor = float(input(\"Valor a depositar: \"))\n",
        "                conta.depositar(valor)\n",
        "            except ValueError:\n",
        "                print(\"Valor inválido.\")\n",
        "\n",
        "        if op == \"2\":\n",
        "            try:\n",
        "                valor = float(input(\"Valor a sacar: \"))\n",
        "                conta.sacar(valor)\n",
        "            except ValueError:\n",
        "                print(\"Valor inválido.\")\n",
        "\n",
        "        if op == \"3\":\n",
        "            conta.mostrar_extrato()\n",
        "\n",
        "        if op == \"4\":\n",
        "            print(\"Encerrando...\")\n",
        "            break\n",
        "\n",
        "menu()"
      ]
    }
  ]
}