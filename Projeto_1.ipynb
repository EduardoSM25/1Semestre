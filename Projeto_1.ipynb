{
  "nbformat": 4,
  "nbformat_minor": 0,
  "metadata": {
    "colab": {
      "provenance": [],
      "authorship_tag": "ABX9TyNFbG8al9ZI6+y26QUSeL+Z",
      "include_colab_link": true
    },
    "kernelspec": {
      "name": "python3",
      "display_name": "Python 3"
    },
    "language_info": {
      "name": "python"
    }
  },
  "cells": [
    {
      "cell_type": "markdown",
      "metadata": {
        "id": "view-in-github",
        "colab_type": "text"
      },
      "source": [
        "<a href=\"https://colab.research.google.com/github/EduardoSM25/1Semestre/blob/main/Projeto_1.ipynb\" target=\"_parent\"><img src=\"https://colab.research.google.com/assets/colab-badge.svg\" alt=\"Open In Colab\"/></a>"
      ]
    },
    {
      "cell_type": "code",
      "execution_count": null,
      "metadata": {
        "id": "AvMQ5aSD5Jd8"
      },
      "outputs": [],
      "source": [
        "import json\n",
        "import os\n",
        "\n",
        "ARQUIVO = \"tarefas.json\"\n",
        "\n",
        "def carregar_tarefas():\n",
        "    if os.path.exists(ARQUIVO):\n",
        "        with open(ARQUIVO, \"r\", encoding=\"utf-8\") as f:\n",
        "            try:\n",
        "                return json.load(f)\n",
        "            except json.JSONDecodeError:\n",
        "                return []\n",
        "    return []\n",
        "\n",
        "def salvar_tarefas(tarefas):\n",
        "    with open(ARQUIVO, \"w\", encoding=\"utf-8\") as f:\n",
        "        json.dump(tarefas, f, ensure_ascii=False, indent=2)\n",
        "\n",
        "def menu():\n",
        "    tarefas = carregar_tarefas()\n",
        "    while True:\n",
        "        print(\"\\n--- Menu de Tarefas ---\")\n",
        "        print(\"1. Adicionar tarefa\")\n",
        "        print(\"2. Listar tarefas\")\n",
        "        print(\"3. Remover tarefa\")\n",
        "        print(\"4. Sair\")\n",
        "        op = input(\"Escolha uma opção: \")\n",
        "\n",
        "        if op not in [\"1\", \"2\", \"3\", \"4\"]:\n",
        "            print(\"Opção inválida.\")\n",
        "            continue\n",
        "\n",
        "        if op == \"1\":\n",
        "            tarefa = input(\"Digite a nova tarefa: \")\n",
        "            tarefas.append(tarefa)\n",
        "            salvar_tarefas(tarefas)\n",
        "            print(\"Tarefa adicionada com sucesso.\")\n",
        "\n",
        "        if op == \"2\":\n",
        "            if tarefas:\n",
        "                for i, t in enumerate(tarefas, 1):\n",
        "                    print(f\"{i}. {t}\")\n",
        "            else:\n",
        "                print(\"Nenhuma tarefa cadastrada.\")\n",
        "\n",
        "        if op == \"3\":\n",
        "            if tarefas:\n",
        "                for i, t in enumerate(tarefas, 1):\n",
        "                    print(f\"{i}. {t}\")\n",
        "                try:\n",
        "                    idx = int(input(\"Digite o número da tarefa a remover: \")) - 1\n",
        "                    if 0 <= idx < len(tarefas):\n",
        "                        removida = tarefas.pop(idx)\n",
        "                        salvar_tarefas(tarefas)\n",
        "                        print(f\"Tarefa '{removida}' removida.\")\n",
        "                    else:\n",
        "                        print(\"Índice inválido.\")\n",
        "                except ValueError:\n",
        "                    print(\"Entrada inválida.\")\n",
        "            else:\n",
        "                print(\"Nenhuma tarefa para remover.\")\n",
        "\n",
        "        if op == \"4\":\n",
        "            print(\"Saindo...\")\n",
        "            break\n",
        "\n",
        "menu()"
      ]
    }
  ]
}