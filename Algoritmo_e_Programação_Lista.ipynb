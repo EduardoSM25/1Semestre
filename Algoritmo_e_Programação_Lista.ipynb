{
  "nbformat": 4,
  "nbformat_minor": 0,
  "metadata": {
    "colab": {
      "provenance": [],
      "authorship_tag": "ABX9TyOkSRnGdRr5ruaJHibSMHu7",
      "include_colab_link": true
    },
    "kernelspec": {
      "name": "python3",
      "display_name": "Python 3"
    },
    "language_info": {
      "name": "python"
    }
  },
  "cells": [
    {
      "cell_type": "markdown",
      "metadata": {
        "id": "view-in-github",
        "colab_type": "text"
      },
      "source": [
        "<a href=\"https://colab.research.google.com/github/EduardoSM25/1Semestre/blob/main/Algoritmo_e_Programa%C3%A7%C3%A3o_Lista.ipynb\" target=\"_parent\"><img src=\"https://colab.research.google.com/assets/colab-badge.svg\" alt=\"Open In Colab\"/></a>"
      ]
    },
    {
      "cell_type": "markdown",
      "source": [
        "## 1. Lista de Compras de Supermercado"
      ],
      "metadata": {
        "id": "GrS_H6fE5YDt"
      }
    },
    {
      "cell_type": "code",
      "execution_count": 2,
      "metadata": {
        "colab": {
          "base_uri": "https://localhost:8080/"
        },
        "id": "6fsTuokN5R8y",
        "outputId": "0c7b0c04-33ec-4c3e-eef9-7abfc172bc00"
      },
      "outputs": [
        {
          "output_type": "stream",
          "name": "stdout",
          "text": [
            "Preciso comprar: leite\n",
            "Preciso comprar: pão\n",
            "Preciso comprar: ovos\n",
            "Preciso comprar: arroz\n",
            "Preciso comprar: feijão\n"
          ]
        }
      ],
      "source": [
        "compras = ['leite', 'pão', 'ovos', 'arroz', 'feijão']\n",
        "\n",
        "for item in compras:\n",
        "    print(f\"Preciso comprar: {item}\")\n"
      ]
    },
    {
      "cell_type": "markdown",
      "source": [
        "## 2. Temperaturas da Semana"
      ],
      "metadata": {
        "id": "5Y0u4LfF5lHc"
      }
    },
    {
      "cell_type": "code",
      "source": [
        "temperaturas = [22.5, 24.0, 19.5, 21.0, 25.2, 23.4, 20.1]\n",
        "\n",
        "maior = temperaturas[0]\n",
        "for temp in temperaturas:\n",
        "    if temp > maior:\n",
        "        maior = temp\n",
        "\n",
        "print(f\"A maior temperatura registrada foi: {maior}°C\")"
      ],
      "metadata": {
        "id": "e9D3UIUGAgj0"
      },
      "execution_count": null,
      "outputs": []
    },
    {
      "cell_type": "markdown",
      "source": [
        "## 3. Fila do Banco"
      ],
      "metadata": {
        "id": "rU_LWhxCAjkb"
      }
    },
    {
      "cell_type": "code",
      "source": [
        "fila = ['Ana', 'Bruno', 'Carla']\n",
        "\n",
        "fila.append('Daniel')\n",
        "\n",
        "print(\"Fila atualizada:\", fila)"
      ],
      "metadata": {
        "id": "-YTJ5s1gAlxS"
      },
      "execution_count": null,
      "outputs": []
    },
    {
      "cell_type": "markdown",
      "source": [
        "## 4. Estoque de Livros"
      ],
      "metadata": {
        "id": "wlupLoVcAoFT"
      }
    },
    {
      "cell_type": "code",
      "source": [
        "livros = ['Dom Casmurro', 'O Cortiço', 'Memórias Póstumas', 'Grande Sertão']\n",
        "\n",
        "livros[1] = 'Capitães da Areia'\n",
        "\n",
        "print(\"Lista de livros atualizada:\", livros)\n"
      ],
      "metadata": {
        "colab": {
          "base_uri": "https://localhost:8080/"
        },
        "id": "5SJEt_syAqti",
        "outputId": "b387a838-dc65-4f60-b6ae-5d8fd37c2991"
      },
      "execution_count": 4,
      "outputs": [
        {
          "output_type": "stream",
          "name": "stdout",
          "text": [
            "Lista de livros atualizada: ['Dom Casmurro', 'Capitães da Areia', 'Memórias Póstumas', 'Grande Sertão']\n"
          ]
        }
      ]
    },
    {
      "cell_type": "markdown",
      "source": [
        "## 5. Aniversários"
      ],
      "metadata": {
        "id": "9k6BfLdWAsoS"
      }
    },
    {
      "cell_type": "code",
      "source": [
        "aniversarios = [1, 4, 7, 6, 11]\n",
        "\n",
        "print(\"Aniversários no primeiro semestre:\")\n",
        "for mes in aniversarios:\n",
        "    if mes <= 6:\n",
        "        print(f\"Mês: {mes}\")\n"
      ],
      "metadata": {
        "id": "_jYhV6PWAvti"
      },
      "execution_count": null,
      "outputs": []
    },
    {
      "cell_type": "markdown",
      "source": [
        "## 6. Notas de Prova"
      ],
      "metadata": {
        "id": "pg62zDkGBRga"
      }
    },
    {
      "cell_type": "code",
      "source": [
        "notas = [7.5, 8.0, 5.5, 6.0, 9.0]\n",
        "\n",
        "print(\"Notas acima de 7:\")\n",
        "for nota in notas:\n",
        "    if nota > 7:\n",
        "        print(nota)\n"
      ],
      "metadata": {
        "id": "1mHlTYrQBUP6"
      },
      "execution_count": null,
      "outputs": []
    },
    {
      "cell_type": "markdown",
      "source": [
        "## 7. Lista de Presença"
      ],
      "metadata": {
        "id": "4i0aucrIBWbq"
      }
    },
    {
      "cell_type": "code",
      "source": [
        "presenca = ['Lucas', 'Mariana', 'João', 'Paula']\n",
        "\n",
        "# Suponha que João saiu mais cedo\n",
        "for aluno in presenca:\n",
        "    if aluno == 'João':\n",
        "        presenca.remove(aluno)\n",
        "        break\n",
        "\n",
        "print(\"Lista final de presença:\", presenca)\n"
      ],
      "metadata": {
        "id": "774H897UBYsa"
      },
      "execution_count": null,
      "outputs": []
    },
    {
      "cell_type": "markdown",
      "source": [
        "## 8. Lista de Preços"
      ],
      "metadata": {
        "id": "ljlFCIgoBfOC"
      }
    },
    {
      "cell_type": "code",
      "source": [
        "preços = [10.50, 23.75, 5.00, 12.30]\n",
        "\n",
        "total = 0\n",
        "for preco in preços:\n",
        "    total += preço\n",
        "\n",
        "print(f\"Valor total da compra: R$ {total:.2f}\")\n"
      ],
      "metadata": {
        "id": "F3HV_5OmBiKh"
      },
      "execution_count": null,
      "outputs": []
    },
    {
      "cell_type": "markdown",
      "source": [
        "## 9. Seleção de Esportes"
      ],
      "metadata": {
        "id": "K2j-CnKOBkOy"
      }
    },
    {
      "cell_type": "code",
      "source": [
        "esportes = ['futebol', 'basquete', 'volei', 'tenis', 'natação']\n",
        "\n",
        "print(\"Três primeiros esportes:\")\n",
        "print(esportes[0:3])\n"
      ],
      "metadata": {
        "id": "lcZYAIrvBqAa"
      },
      "execution_count": null,
      "outputs": []
    },
    {
      "cell_type": "markdown",
      "source": [
        "## 10. Participantes de um Evento"
      ],
      "metadata": {
        "id": "DF3gdwI2Bpkq"
      }
    },
    {
      "cell_type": "code",
      "source": [
        "participantes = ['Alice', 'Bruno', 'Carla', 'Diego', 'Elisa']\n",
        "\n",
        "participantes.insert(1, 'Fernanda')\n",
        "\n",
        "print(\"Lista final de participantes:\", participantes)\n"
      ],
      "metadata": {
        "colab": {
          "base_uri": "https://localhost:8080/"
        },
        "id": "zZ4N8hO5BtHh",
        "outputId": "ac8d7de0-5917-4c82-8a05-072202a3c480"
      },
      "execution_count": 5,
      "outputs": [
        {
          "output_type": "stream",
          "name": "stdout",
          "text": [
            "Lista final de participantes: ['Alice', 'Fernanda', 'Bruno', 'Carla', 'Diego', 'Elisa']\n"
          ]
        }
      ]
    }
  ]
}