{
  "nbformat": 4,
  "nbformat_minor": 0,
  "metadata": {
    "colab": {
      "provenance": [],
      "authorship_tag": "ABX9TyOADtvsC2soZT8OC0EIIZze",
      "include_colab_link": true
    },
    "kernelspec": {
      "name": "python3",
      "display_name": "Python 3"
    },
    "language_info": {
      "name": "python"
    }
  },
  "cells": [
    {
      "cell_type": "markdown",
      "metadata": {
        "id": "view-in-github",
        "colab_type": "text"
      },
      "source": [
        "<a href=\"https://colab.research.google.com/github/EduardoSM25/1Semestre/blob/main/Algoritmo_e_programa%C3%A7%C3%A3o.ipynb\" target=\"_parent\"><img src=\"https://colab.research.google.com/assets/colab-badge.svg\" alt=\"Open In Colab\"/></a>"
      ]
    },
    {
      "cell_type": "markdown",
      "source": [
        "## Exercício 1 – Verificar Maioridade"
      ],
      "metadata": {
        "id": "gIGpjG4Cl2h-"
      }
    },
    {
      "cell_type": "code",
      "execution_count": 4,
      "metadata": {
        "colab": {
          "base_uri": "https://localhost:8080/"
        },
        "id": "o7wGK7svlw4U",
        "outputId": "84ed15b2-2e3c-4e38-b6ba-966048f30aeb"
      },
      "outputs": [
        {
          "output_type": "stream",
          "name": "stdout",
          "text": [
            "Quantos anos você tem?18\n",
            "Acesso Permitido\n"
          ]
        }
      ],
      "source": [
        "#Variavel\n",
        "idade = int\n",
        "#entrada de dados\n",
        "\n",
        "idade=int(input(\"Quantos anos você tem?\"))\n",
        "\n",
        "#saida de dados\n",
        "if idade >=18:\n",
        "    print(\"Acesso Permitido\")\n",
        "else:\n",
        "        print(\"Acesso Negado\")"
      ]
    },
    {
      "cell_type": "markdown",
      "source": [
        "## Exercício 2 – Calcular Aumento Salarial"
      ],
      "metadata": {
        "id": "ExhP8T-AnwI8"
      }
    },
    {
      "cell_type": "code",
      "source": [
        "#Variavel\n",
        "Salario=float\n",
        "novo_salario=float\n",
        "#entrada de dados\n",
        "\n",
        "salario = float(input(\"Digite o salário atual: R$ \"))\n",
        "\n",
        "if salario < 2000:\n",
        "    novo_salario = salario * 1.15\n",
        "else:\n",
        "    novo_salario = salario * 1.10\n",
        "\n",
        "#saida de dados\n",
        "print(f\"Novo salário: R$ {novo_salario:.2f}\")"
      ],
      "metadata": {
        "colab": {
          "base_uri": "https://localhost:8080/"
        },
        "id": "P4Qs5sK9nvSt",
        "outputId": "205df31d-d658-4d8b-b617-af99af9a5ac5"
      },
      "execution_count": 12,
      "outputs": [
        {
          "output_type": "stream",
          "name": "stdout",
          "text": [
            "Digite o salário atual: R$ 2000.0\n",
            "Novo salário: R$ 2200.00\n"
          ]
        }
      ]
    },
    {
      "cell_type": "markdown",
      "source": [
        "## Exercício 3 – Determinar o Estado da Água"
      ],
      "metadata": {
        "id": "O7atFPw7oiTK"
      }
    },
    {
      "cell_type": "code",
      "source": [
        "#variavel\n",
        "Temperatura_agua=float\n",
        "#entrada de dados\n",
        "\n",
        "Temperatura_agua = float(input(\"Digite a temperatura da água (°C): \"))\n",
        "\n",
        "#saída de dados\n",
        "if Temperatura_agua < 0:\n",
        "    print(\"Estado: sólido (gelo)\")\n",
        "else:\n",
        "    if Temperatura_agua > 100:\n",
        "        print(\"Estado: gasoso (vapor)\")\n",
        "    else:\n",
        "        print(\"Estado: líquido\")\n",
        "\n"
      ],
      "metadata": {
        "colab": {
          "base_uri": "https://localhost:8080/"
        },
        "id": "glFX6M_npNBl",
        "outputId": "1106ee05-eed5-4a95-bc18-6c818af628c2"
      },
      "execution_count": 21,
      "outputs": [
        {
          "output_type": "stream",
          "name": "stdout",
          "text": [
            "Digite a temperatura da água (°C): 101\n",
            "Estado: gasoso (vapor)\n"
          ]
        }
      ]
    },
    {
      "cell_type": "markdown",
      "source": [
        "## Exercício 4 – Calculadora de IMC"
      ],
      "metadata": {
        "id": "YnENfr9Rs51a"
      }
    },
    {
      "cell_type": "code",
      "source": [
        "#variavel\n",
        "peso=float\n",
        "altura=float\n",
        "imc=float\n",
        "#Entrada de dados\n",
        "\n",
        "peso = float(input(\"Digite o peso (kg): \"))\n",
        "altura = float(input(\"Digite a altura (m): \"))\n",
        "\n",
        "imc = peso / (altura ** 2)\n",
        "print(f\"IMC: {imc:.2f}\")\n",
        "\n",
        "#saída de dados\n",
        "\n",
        "if imc < 18.5:\n",
        "    print(\"Classificação: Abaixo do peso\")\n",
        "else:\n",
        "    if imc <= 24.9:\n",
        "        print(\"Classificação: Peso normal\")\n",
        "    else:\n",
        "        if imc <= 29.9:\n",
        "            print(\"Classificação: Sobrepeso\")\n",
        "        else:\n",
        "            print(\"Classificação: Obesidade\")"
      ],
      "metadata": {
        "colab": {
          "base_uri": "https://localhost:8080/"
        },
        "id": "IxtDxZjTs-w5",
        "outputId": "dcb76dd1-d9fa-41aa-ece7-80056da92384"
      },
      "execution_count": 22,
      "outputs": [
        {
          "output_type": "stream",
          "name": "stdout",
          "text": [
            "Digite o peso (kg): 115.7\n",
            "Digite a altura (m): 1.98\n",
            "IMC: 29.51\n",
            "Classificação: Sobrepeso\n"
          ]
        }
      ]
    },
    {
      "cell_type": "markdown",
      "source": [
        "## Exercício 5 – Cálculo de Passagem de Ônibus"
      ],
      "metadata": {
        "id": "mBgQqrdbtLoo"
      }
    },
    {
      "cell_type": "code",
      "source": [
        "#variavel\n",
        "distancia=float\n",
        "preço=float\n",
        "#Entrada de dados\n",
        "\n",
        "distancia = float(input(\"Digite a distância da viagem (km): \"))\n",
        "\n",
        "#saída de dados]\n",
        "\n",
        "if distancia <= 200:\n",
        "    preço = distancia * 0.50\n",
        "else:\n",
        "    preço = distancia * 0.45\n",
        "\n",
        "print(f\"Preço da passagem: R$ {preço:.2f}\")"
      ],
      "metadata": {
        "id": "X3VOGtqHtZyI"
      },
      "execution_count": null,
      "outputs": []
    },
    {
      "cell_type": "markdown",
      "source": [
        "## Exercício 6 – Par ou Ímpar"
      ],
      "metadata": {
        "id": "3YGTwKw4uJ_3"
      }
    },
    {
      "cell_type": "code",
      "source": [
        "#variavel\n",
        "numero=int\n",
        "#Entrada de dados\n",
        "\n",
        "numero = int(input(\"Digite um número inteiro: \"))\n",
        "\n",
        "#saída de dados\n",
        "\n",
        "if numero % 2 == 0:\n",
        "    print(\"O número é par.\")\n",
        "else:\n",
        "    print(\"O número é ímpar.\")"
      ],
      "metadata": {
        "colab": {
          "base_uri": "https://localhost:8080/"
        },
        "id": "QhYWyQAuucRZ",
        "outputId": "bd9dced9-0c6e-4443-8458-7600f32a6855"
      },
      "execution_count": 24,
      "outputs": [
        {
          "output_type": "stream",
          "name": "stdout",
          "text": [
            "Digite um número inteiro: 10000000000\n",
            "O número é par.\n"
          ]
        }
      ]
    },
    {
      "cell_type": "markdown",
      "source": [
        "## Exercício 7 – Desconto em Compras"
      ],
      "metadata": {
        "id": "KT38j0Jqu80e"
      }
    },
    {
      "cell_type": "code",
      "source": [
        "#variavel\n",
        "valor=float\n",
        "desconto_valor=float\n",
        "total=float\n",
        "#entrada de dados\n",
        "\n",
        "valor = float(input(\"Digite o valor total da compra: R$ \"))\n",
        "\n",
        "#saída de dados\n",
        "\n",
        "if valor > 500:\n",
        "    desconto_valor = valor * 0.10\n",
        "else:\n",
        "    if valor >= 200:\n",
        "        desconto_valor = valor * 0.05\n",
        "    else:\n",
        "        desconto_valor = 0\n",
        "\n",
        "total = valor - desconto_valor\n",
        "print(f\"Desconto: R$ {desconto_valor:.2f}\")\n",
        "print(f\"Total a pagar: R$ {total:.2f}\")\n"
      ],
      "metadata": {
        "colab": {
          "base_uri": "https://localhost:8080/"
        },
        "id": "57UmCqm7vBRv",
        "outputId": "f71e695d-ee39-4af5-c28c-678213193c9e"
      },
      "execution_count": 26,
      "outputs": [
        {
          "output_type": "stream",
          "name": "stdout",
          "text": [
            "Digite o valor total da compra: R$ 20\n",
            "Desconto: R$ 0.00\n",
            "Total a pagar: R$ 20.00\n"
          ]
        }
      ]
    },
    {
      "cell_type": "markdown",
      "source": [
        "## Exercício 8 – Calculadora de Multa de Velocidade"
      ],
      "metadata": {
        "id": "oP6mi1oEwHGN"
      }
    },
    {
      "cell_type": "code",
      "source": [
        "#variavel\n",
        "velocidade=float\n",
        "excesso=float\n",
        "multa=float\n",
        "#entrada de dados\n",
        "\n",
        "velocidade = float(input(\"Digite a velocidade do carro (km/h): \"))\n",
        "\n",
        "#saída de dados\n",
        "\n",
        "if velocidade > 80:\n",
        "    excesso = velocidade - 80\n",
        "    multa = excesso * 5\n",
        "    print(f\"Você foi multado! Valor da multa: R$ {multa:.2f}\")\n",
        "else:\n",
        "    print(\"Velocidade dentro do limite. Sem multa.\")"
      ],
      "metadata": {
        "id": "WPqqFhg6wKik"
      },
      "execution_count": null,
      "outputs": []
    },
    {
      "cell_type": "markdown",
      "source": [
        "## Exercicio 9 - Número Primo"
      ],
      "metadata": {
        "id": "zRdayk2nxQ2K"
      }
    },
    {
      "cell_type": "code",
      "source": [
        "#variavel\n",
        "numero=int\n",
        "numero_primo=int\n",
        "#entrada de dados\n",
        "\n",
        "numero = int(input(\"Digite um número inteiro: \"))\n",
        "numero_primo = True\n",
        "\n",
        "#saída de dados\n",
        "\n",
        "if numero <= 1:\n",
        "    numero_primo = False\n",
        "else:\n",
        "    for i in range(2, numero):\n",
        "        if numero % i == 0:\n",
        "            numero_primo = False\n",
        "\n",
        "if numero_primo == True:\n",
        "    print(f\"{numero} é um número primo.\")\n",
        "else:\n",
        "    print(f\"{numero} não é um número primo.\")"
      ],
      "metadata": {
        "id": "124dXKT-xYNy"
      },
      "execution_count": null,
      "outputs": []
    },
    {
      "cell_type": "markdown",
      "source": [
        "## Exercício 10 – Calculadora de Ano Bissexto"
      ],
      "metadata": {
        "id": "R-5a_hZPwdzb"
      }
    },
    {
      "cell_type": "code",
      "source": [
        "#variavel\n",
        "ano=int\n",
        "#entrada de dados\n",
        "\n",
        "ano = int(input(\"Digite um ano: \"))\n",
        "\n",
        "#saída de dados\n",
        "\n",
        "if ano % 4 == 0:\n",
        "    if ano % 100 != 0:\n",
        "        print(f\"O ano {ano} é bissexto.\")\n",
        "    else:\n",
        "        if ano % 400 == 0:\n",
        "            print(f\"O ano {ano} é bissexto.\")\n",
        "        else:\n",
        "            print(f\"O ano {ano} não é bissexto.\")\n",
        "else:\n",
        "    print(f\"O ano {ano} não é bissexto.\")\n"
      ],
      "metadata": {
        "id": "LLSeJMLcwhEz"
      },
      "execution_count": null,
      "outputs": []
    }
  ]
}
